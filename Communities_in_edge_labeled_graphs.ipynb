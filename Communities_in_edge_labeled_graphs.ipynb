{
 "cells": [
  {
   "cell_type": "code",
   "execution_count": 1,
   "metadata": {
    "id": "fPS7WlgtOEvZ"
   },
   "outputs": [],
   "source": [
    "import networkx as nx\n",
    "import copy\n",
    "from edgelabelgraph import EdgeLabelGraph"
   ]
  },
  {
   "cell_type": "code",
   "execution_count": 2,
   "metadata": {},
   "outputs": [],
   "source": [
    "from collections import Counter\n",
    "from bintrees import RBTree\n",
    "\n",
    "def greedy_find_dense_label_induced_subgraph(graph, conjunction=True, return_graph=False):\n",
    "    G = graph.create_copy()\n",
    "    \n",
    "    r_v_k = dict()\n",
    "    m_k = Counter()\n",
    "    n_k = Counter()\n",
    "\n",
    "    for edge in G.edges:\n",
    "        for label in G.edge_labels[edge]:\n",
    "            m_k[label] += 1\n",
    "            for vertex in edge:\n",
    "                if not vertex in r_v_k:\n",
    "                    r_v_k[vertex] = Counter()\n",
    "                r_v_k[vertex][label] += 1\n",
    "\n",
    "    for vertex in r_v_k:\n",
    "        for label in r_v_k[vertex]:\n",
    "            n_k[label] += 1\n",
    "    \n",
    "    \n",
    "    L = []\n",
    "    L_set = set()\n",
    "    best_L = []\n",
    "    best_density = -1\n",
    "    best_G = None\n",
    "    if not conjunction and return_graph:\n",
    "        G2 = EdgeLabelGraph()\n",
    "    \n",
    "    if conjunction:\n",
    "        T = RBTree()\n",
    "        label_densities = dict()\n",
    "        for label in G.all_labels:\n",
    "            if n_k[label] == 0:\n",
    "                density = 0\n",
    "            else:\n",
    "                density = m_k[label] / n_k[label]\n",
    "            label_densities[label] = density\n",
    "            T.insert((density, label), None)\n",
    "    else:\n",
    "        n = 0\n",
    "        m = 0\n",
    "        r_v = dict()\n",
    "        for edge in G.edges:\n",
    "            for v in edge:\n",
    "                r_v[v] = 0\n",
    "\n",
    "    while len(G.all_labels) > len(L) and (not conjunction or len(T) > 0):\n",
    "        if conjunction:\n",
    "            density, k = T.pop_max()[0]\n",
    "        else:\n",
    "            best_k_density = -1\n",
    "            best_k = None\n",
    "            for k in G.all_labels:\n",
    "                if k in L_set:\n",
    "                    continue\n",
    "                if n == 0 and n_k[k] == 0:\n",
    "                    density = 0\n",
    "                else:\n",
    "                    density = (m + m_k[k])/(n + n_k[k])\n",
    "                if density > best_k_density:\n",
    "                    best_k_density = density\n",
    "                    best_k = k\n",
    "            density, k = best_k_density, best_k\n",
    "        L.append(k)\n",
    "        L_set.add(k)\n",
    "        updated_labels = []\n",
    "        for edge in tuple(G.edges):\n",
    "            u, v = edge\n",
    "            if conjunction:\n",
    "                if k in G.edge_labels[edge]:\n",
    "                    continue\n",
    "                for l in tuple(G.edge_labels[edge]):\n",
    "                    if l in L_set:\n",
    "                        continue\n",
    "                    m_k[l] -= 1\n",
    "                    r_v_k[v][l] -= 1\n",
    "                    r_v_k[u][l] -= 1\n",
    "                    if r_v_k[v][l] == 0:\n",
    "                        n_k[l] -= 1\n",
    "                    if r_v_k[u][l] == 0:\n",
    "                        n_k[l] -= 1\n",
    "                    updated_labels.append(l)\n",
    "            else:\n",
    "                if k not in G.edge_labels[edge]:\n",
    "                    continue\n",
    "                for l in tuple(G.edge_labels[edge]):\n",
    "                    if l in L_set:\n",
    "                        continue\n",
    "                    m_k[l] -= 1\n",
    "                m += 1\n",
    "                if r_v[v] == 0:\n",
    "                    for l in r_v_k[v]:\n",
    "                        n_k[l] -= 1\n",
    "                    n += 1\n",
    "                if r_v[u] == 0:\n",
    "                    for l in r_v_k[u]:\n",
    "                        n_k[l] -= 1\n",
    "                    n += 1\n",
    "                r_v[v] = 1\n",
    "                r_v[u] = 1\n",
    "            if not conjunction and return_graph:\n",
    "                G2.add_edge_with_labels(edge, G.edge_labels[edge])\n",
    "            G.delete_edge(edge)\n",
    "\n",
    "        for l in updated_labels:\n",
    "            T.pop((label_densities[l], l))\n",
    "            if n_k[l] == 0:\n",
    "                new_density = 0\n",
    "            else:\n",
    "                new_density = m_k[l] / n_k[l]\n",
    "            T.insert((new_density, l), None)\n",
    "            label_densities[l] = new_density\n",
    "\n",
    "        if density > best_density:\n",
    "            best_L = L.copy()\n",
    "            best_density = density\n",
    "            if return_graph:\n",
    "                if conjunction:\n",
    "                    best_G = G.create_copy()\n",
    "                else:\n",
    "                    best_G = G2.create_copy()\n",
    "        \n",
    "    if return_graph:\n",
    "        return (best_density, best_L, best_G)\n",
    "    return (best_density, best_L)"
   ]
  },
  {
   "cell_type": "code",
   "execution_count": 3,
   "metadata": {},
   "outputs": [],
   "source": [
    "from datetime import datetime\n",
    "\n",
    "def repeated_find_label_subgraph(graph, conjunction=True, max_iterations=5, track_time=False):\n",
    "    results = []\n",
    "    current_graph = graph.create_copy()\n",
    "    i = 1\n",
    "    while (i <= max_iterations or max_iterations <= 0) and current_graph.number_of_edges() > 0:\n",
    "        if track_time:\n",
    "            start_time = datetime.now()\n",
    "        density, labels, return_graph = greedy_find_dense_label_induced_subgraph(\n",
    "            current_graph, conjunction=conjunction, return_graph=True)\n",
    "        print(density, labels, return_graph.number_of_nodes(), return_graph.number_of_edges())\n",
    "        if track_time:\n",
    "            print(datetime.now()-start_time)\n",
    "        results.append((density, labels, return_graph.create_copy()))\n",
    "        for edge in return_graph.edges:\n",
    "            current_graph.delete_edge(edge)\n",
    "        if not conjunction:\n",
    "            current_graph.all_labels -= set(labels)\n",
    "        i += 1\n",
    "    return results"
   ]
  },
  {
   "cell_type": "code",
   "execution_count": 4,
   "metadata": {
    "colab": {
     "base_uri": "https://localhost:8080/"
    },
    "id": "Yzby0NnA2bY-",
    "outputId": "71e1931d-a2b2-4e86-831e-b859653b67c8"
   },
   "outputs": [
    {
     "name": "stdout",
     "output_type": "stream",
     "text": [
      "0.00 9.50 9.50 [10, 13, 18, 30, 46] [10, 13, 18, 30, 46]\n",
      "0.05 9.05 9.05 [17, 21, 27, 38, 46] [17, 21, 27, 38, 46]\n",
      "0.10 8.55 8.55 [0, 5, 27, 30, 43] [0, 5, 27, 30, 43]\n",
      "0.15 8.20 8.20 [24, 30, 33, 35, 44] [24, 30, 33, 35, 44]\n",
      "0.20 7.05 7.05 [5, 8, 10, 24, 40] [5, 8, 10, 24, 40]\n",
      "0.25 5.68 5.68 [6, 14, 21, 26, 34] [6, 14, 21, 26, 34]\n",
      "0.30 4.75 6.43 [2, 5, 7, 22, 28] [28]\n",
      "0.35 2.86 8.04 [13, 16, 22, 32, 40] [40]\n",
      "0.40 2.01 10.41 [12, 27, 37, 44, 49] [12]\n",
      "0.45 1.72 12.62 [1, 14, 26, 33, 35] [1]\n"
     ]
    }
   ],
   "source": [
    "import numpy as np\n",
    "np.random.seed(123)\n",
    "n_vertices = 200\n",
    "n_labels = 50\n",
    "vertices = np.arange(n_vertices)\n",
    "labels = np.arange(n_labels)\n",
    "\n",
    "n_target_labels = 5\n",
    "n_cliques = n_target_labels+1\n",
    "n_clique_vertices_list = [10]*n_target_labels + [20]\n",
    "\n",
    "epsilons = np.arange(0,0.5,0.05)\n",
    "\n",
    "target_densities = np.array([])\n",
    "greedy_densities = np.array([])\n",
    "\n",
    "for epsilon in epsilons:\n",
    "    p_add_clique_edge = 1.0-epsilon\n",
    "    p_add_other_edge = 0+epsilon\n",
    "    p_add_label = 0+epsilon\n",
    "\n",
    "    G = EdgeLabelGraph()\n",
    "\n",
    "    target_labels = list(sorted(np.random.choice(labels, size=n_target_labels, replace=False)))\n",
    "    target_labels_set = set(target_labels)\n",
    "    other_labels = set(labels)-set(target_labels)\n",
    "    n_target_edges = 0\n",
    "    target_vertices = set()\n",
    "\n",
    "    vertex_indx = 0\n",
    "    for clique_indx in range(n_cliques):\n",
    "        n_clique_vertices = n_clique_vertices_list[clique_indx]\n",
    "        clique_labels = set(target_labels[:clique_indx] + target_labels[clique_indx+1:])\n",
    "\n",
    "        for u in range(vertex_indx, vertex_indx + n_clique_vertices - 1):\n",
    "            for v in range(u+1, vertex_indx + n_clique_vertices):\n",
    "                if np.random.random() <= p_add_clique_edge: \n",
    "                    edge_labels = clique_labels.copy()\n",
    "                    for label in other_labels:\n",
    "                        if np.random.random() <= p_add_label: \n",
    "                            edge_labels.add(label)\n",
    "                    G.add_edge_with_labels((u,v), edge_labels)\n",
    "                    if target_labels_set.issubset(edge_labels):\n",
    "                        n_target_edges += 1\n",
    "                        target_vertices.add(u)\n",
    "                        target_vertices.add(v)\n",
    "\n",
    "\n",
    "                \n",
    "        for u in range(vertex_indx, vertex_indx + n_clique_vertices):\n",
    "            for v in range(vertex_indx + n_clique_vertices, n_vertices):\n",
    "                if np.random.random() <= p_add_other_edge: \n",
    "                    edge_labels = set()\n",
    "                    for label in labels:\n",
    "                        if np.random.random() <= p_add_label: \n",
    "                            edge_labels.add(label)\n",
    "                    G.add_edge_with_labels((u,v), edge_labels)\n",
    "                    if target_labels_set.issubset(edge_labels):\n",
    "                        n_target_edges += 1\n",
    "                        target_vertices.add(u)\n",
    "                        target_vertices.add(v)\n",
    "\n",
    "        vertex_indx += n_clique_vertices\n",
    "\n",
    "    n_target_clique_vertices = n_clique_vertices_list[-1]\n",
    "\n",
    "    target_density = n_target_edges/len(target_vertices)\n",
    "    greedy_density, greedy_labels = greedy_find_dense_label_induced_subgraph(G, conjunction=True)\n",
    "    target_densities = np.append(target_densities, target_density)\n",
    "    greedy_densities = np.append(greedy_densities, greedy_density)\n",
    "    print(\"{:.2f}\".format(epsilon), \"{:.2f}\".format(target_density), \"{:.2f}\".format(greedy_density), target_labels, sorted(greedy_labels))"
   ]
  },
  {
   "cell_type": "code",
   "execution_count": 5,
   "metadata": {},
   "outputs": [],
   "source": [
    "from matplotlib import pyplot as plt\n",
    "import matplotlib.ticker as ticker\n",
    "import matplotlib\n",
    "\n",
    "def plot_synthetic_density(epsilons, target_densities, greedy_densities, figname):\n",
    "    fig, ax = plt.subplots(1,1)\n",
    "    fig.set_size_inches(4, 3)\n",
    "    plt.plot(epsilons, target_densities, label=\"Target density\", linewidth=3)\n",
    "    plt.plot(epsilons, greedy_densities, label=\"Greedy density\", linewidth=3)\n",
    "    plt.legend()\n",
    "    plt.xlabel(\"Random noise ε\")\n",
    "    plt.ylabel(\"Density\")\n",
    "    ax.xaxis.set_major_locator(ticker.MultipleLocator(0.05))\n",
    "    ax.xaxis.set_major_formatter(ticker.FormatStrFormatter('%g'))\n",
    "    plt.tight_layout()\n",
    "    plt.savefig(figname, dpi=100, pad_inches=0)\n",
    "    plt.show()"
   ]
  },
  {
   "cell_type": "code",
   "execution_count": 6,
   "metadata": {},
   "outputs": [
    {
     "data": {
      "image/png": "[encoded data removed]",
      "text/plain": [
       "<Figure size 288x216 with 1 Axes>"
      ]
     },
     "metadata": {
      "needs_background": "light"
     },
     "output_type": "display_data"
    }
   ],
   "source": [
    "plot_synthetic_density(epsilons, target_densities, greedy_densities, \"synthetic_density_conjunction.pdf\")"
   ]
  },
  {
   "cell_type": "code",
   "execution_count": 7,
   "metadata": {},
   "outputs": [
    {
     "name": "stdout",
     "output_type": "stream",
     "text": [
      "0.00 19.50 19.50 [10, 13, 18, 30, 46] [10, 13, 18, 30, 46]\n",
      "0.05 18.48 18.48 [15, 24, 31, 37, 43] [15, 24, 31, 37, 43]\n",
      "0.10 17.60 17.60 [2, 9, 10, 30, 44] [2, 9, 10, 30, 44]\n",
      "0.15 16.12 16.12 [6, 13, 25, 29, 44] [6, 13, 25, 29, 44]\n",
      "0.20 15.10 15.10 [8, 19, 36, 40, 43] [8, 19, 36, 40, 43]\n",
      "0.25 14.72 14.72 [2, 25, 31, 39, 43] [2, 25, 31, 39, 43]\n",
      "0.30 13.22 12.20 [10, 18, 43, 45, 47] [1, 2, 3, 6, 8, 13, 16, 17, 20, 24, 26, 30, 31, 41, 46]\n",
      "0.35 13.22 13.28 [10, 13, 17, 33, 41] [1, 4, 6, 8, 12, 18, 21, 34, 36, 39, 42, 45, 48, 49]\n",
      "0.40 11.22 14.95 [8, 20, 26, 41, 49] [2, 5, 18, 19, 21, 24, 35, 40, 47, 48]\n",
      "0.45 10.62 16.07 [2, 12, 21, 40, 47] [0, 1, 3, 8, 9, 10, 16, 23, 24, 25]\n"
     ]
    }
   ],
   "source": [
    "import numpy as np\n",
    "np.random.seed(123)\n",
    "n_vertices = 200\n",
    "n_labels = 50\n",
    "vertices = np.arange(n_vertices)\n",
    "labels = np.arange(n_labels)\n",
    "\n",
    "n_target_labels = 5\n",
    "n_clique_vertices = 40\n",
    "n_clique_edges = n_clique_vertices * (n_clique_vertices - 1)/2\n",
    "\n",
    "\n",
    "epsilons = np.arange(0,0.5,0.05)\n",
    "\n",
    "target_densities = np.array([])\n",
    "greedy_densities = np.array([])\n",
    "\n",
    "for epsilon in epsilons:\n",
    "    p_add_clique_edge = 1.0-epsilon\n",
    "    p_add_other_edge = 0+epsilon\n",
    "    p_add_label = 0+epsilon\n",
    "\n",
    "    n_target_label_edges = np.zeros(n_target_labels)\n",
    "\n",
    "    G = EdgeLabelGraph()\n",
    "\n",
    "    target_labels = list(sorted(np.random.choice(labels, size=n_target_labels, replace=False)))\n",
    "    target_labels_set = set(target_labels)\n",
    "    other_labels = set(labels)-set(target_labels)\n",
    "    n_target_edges = 0\n",
    "    target_vertices = set()\n",
    "\n",
    "    for u in range(n_clique_vertices-1):\n",
    "        for v in range(u+1, n_clique_vertices):\n",
    "            target_label_idx = np.random.choice(np.where(n_target_label_edges <= n_clique_edges/n_target_labels)[0])\n",
    "            n_target_label_edges[target_label_idx] += 1\n",
    "            \n",
    "            if np.random.random() <= p_add_clique_edge: \n",
    "                n_target_edges += 1\n",
    "                target_vertices.add(u)\n",
    "                target_vertices.add(v)\n",
    "                edge_labels = set({target_labels[target_label_idx]})\n",
    "\n",
    "                for label in other_labels:\n",
    "                    if np.random.random() <= p_add_label: \n",
    "                        edge_labels.add(label)\n",
    "                G.add_edge_with_labels((u,v), edge_labels)\n",
    "        \n",
    "        for v in range(n_clique_vertices, n_vertices):\n",
    "            if np.random.random() <= p_add_other_edge: \n",
    "                edge_labels = set()\n",
    "                for label in other_labels:\n",
    "                    if np.random.random() <= p_add_label: \n",
    "                        edge_labels.add(label)\n",
    "                G.add_edge_with_labels((u,v), edge_labels)\n",
    "\n",
    "    target_density = n_target_edges/len(target_vertices)\n",
    "    greedy_density, greedy_labels = greedy_find_dense_label_induced_subgraph(G, conjunction=False)\n",
    "    target_densities = np.append(target_densities, target_density)\n",
    "    greedy_densities = np.append(greedy_densities, greedy_density)\n",
    "    print(\"{:.2f}\".format(epsilon), \"{:.2f}\".format(target_density), \"{:.2f}\".format(greedy_density), target_labels, sorted(greedy_labels))"
   ]
  },
  {
   "cell_type": "code",
   "execution_count": 8,
   "metadata": {},
   "outputs": [
    {
     "data": {
      "image/png": "[encoded data removed]",
      "text/plain": [
       "<Figure size 288x216 with 1 Axes>"
      ]
     },
     "metadata": {
      "needs_background": "light"
     },
     "output_type": "display_data"
    }
   ],
   "source": [
    "plot_synthetic_density(epsilons, target_densities, greedy_densities, \"synthetic_density_disjunction.pdf\")"
   ]
  },
  {
   "cell_type": "code",
   "execution_count": null,
   "metadata": {},
   "outputs": [],
   "source": [
    "def remove_sparse_labels(graph, min_edges_proportion = 0.005):\n",
    "    label_edge_counts = dict()\n",
    "    for edge in graph.edges:\n",
    "        for label in graph.edge_labels[edge]:\n",
    "            if not label in label_edge_counts:\n",
    "                label_edge_counts[label] = 0\n",
    "            label_edge_counts[label] += 1\n",
    "    removed_labels = set()\n",
    "    for label in label_edge_counts:\n",
    "        if label_edge_counts[label] < min_edges_proportion*graph.number_of_edges():\n",
    "            removed_labels.add(label)\n",
    "    for edge in tuple(graph.edges):\n",
    "        graph.edge_labels[edge] -= removed_labels\n",
    "        if len(graph.edge_labels[edge]) == 0:\n",
    "            graph.delete_edge(edge)\n",
    "    graph.all_labels -= removed_labels\n",
    "    return label_edge_counts"
   ]
  },
  {
   "cell_type": "code",
   "execution_count": null,
   "metadata": {},
   "outputs": [],
   "source": [
    "def run_decompostion(test_graph):\n",
    "    vertex_to_index = dict([(v, i) for i, v in enumerate(test_graph.nodes)])\n",
    "    with open(\"test_graph.txt\", \"w+\") as f:\n",
    "        for edge in test_graph.edges:\n",
    "            f.write(f\"{vertex_to_index[edge[0]]} {vertex_to_index[edge[1]]}\\n\")\n",
    "\n",
    "    decomposition_path=\"../density-friendly-decomposition-master/decomposition/core\"\n",
    "    input_file=\"test_graph.txt\"\n",
    "    decomposition = !$decomposition_path -i $input_file -m e | head -n 1\n",
    "    density, n_nodes = decomposition[0].split(\" \")[:2]\n",
    "    return density, n_nodes"
   ]
  },
  {
   "cell_type": "code",
   "execution_count": null,
   "metadata": {},
   "outputs": [],
   "source": [
    "import pickle\n",
    "datasets = [\n",
    "    (\"Enron\", \"enron_graph_subject_only.pkl\", True),\n",
    "    (\"HEP-TH\", \"phys_graph_title_min_91_shared_2.pkl\", False),\n",
    "    (\"DBLP\", \"dblp_graph_title_min_140_shared_2.pkl\", False),\n",
    "    (\"Twitter\", \"tweets_graph.pkl\", True),\n",
    "]\n",
    "\n",
    "with open(\"graph_results.csv\", \"w+\") as results_file:\n",
    "    results_file.write(\"dataset,n,m,L,p,density,t-con,n-con,m-con,density-con,L-con,\"+\\\n",
    "                       \"t-dis,n-dis,m-dis,density-dis,L-dis,\"+\\\n",
    "                       \"density-decomp,n-decomp\\n\")\n",
    "    for title, graph_file, sparse_labels_removal in datasets:\n",
    "        print(title)\n",
    "        with open(graph_file, \"rb\") as file:\n",
    "            test_graph = pickle.load(file)\n",
    "        if sparse_labels_removal:\n",
    "            min_edges_proportion = 0.001\n",
    "            label_edge_counts = remove_sparse_labels(test_graph, min_edges_proportion=min_edges_proportion)\n",
    "        else:\n",
    "            test_graph.update_label_set()\n",
    "        results = []\n",
    "        for conjunction in [True, False]:\n",
    "            t = datetime.now()\n",
    "            density, labels, return_graph = greedy_find_dense_label_induced_subgraph(\n",
    "                test_graph, conjunction=conjunction, return_graph=True)\n",
    "            results.append(datetime.now()-t)\n",
    "            results.append(return_graph.number_of_nodes())\n",
    "            results.append(return_graph.number_of_edges())\n",
    "            results.append(density)\n",
    "            results.append(len(labels))\n",
    "        results = [str(r) for r in results]\n",
    "        decomp_density, decomp_nodes = run_decompostion(test_graph)\n",
    "        n = test_graph.number_of_nodes()\n",
    "        m = test_graph.number_of_edges()\n",
    "        L = len(test_graph.all_labels)\n",
    "        p = 0\n",
    "        for edge in test_graph.edges:\n",
    "            p += len(test_graph.edge_labels[edge])\n",
    "        density = test_graph.density()\n",
    "        results_file.write(f\"\\\\dtname{{{title}}},{n},{m},{L},{p},{density},\"+\\\n",
    "                            f\"{','.join(results)},{decomp_density},{decomp_nodes}\\n\")\n",
    "        "
   ]
  },
  {
   "cell_type": "code",
   "execution_count": null,
   "metadata": {},
   "outputs": [],
   "source": [
    "import pickle\n",
    "\n",
    "#with open(\"enron_graph_subject_only.pkl\", \"rb\") as file:\n",
    "#with open(\"phys_graph_title_min_91_shared_2.pkl\", \"rb\") as file:\n",
    "with open(\"tweets_graph.pkl\", \"rb\") as file:\n",
    "#with open(\"dblp_graph_title_min_140_shared_2.pkl\", \"rb\") as file:\n",
    "    test_graph = pickle.load(file)\n",
    "    \n",
    "sparse_labels_removal = True\n",
    "if sparse_labels_removal:\n",
    "    print(f\"Labels before removal: {len(test_graph.all_labels)}\")\n",
    "    min_edges_proportion = 0.001\n",
    "    print(f\"Remove labels that occur in less than {int(min_edges_proportion*test_graph.number_of_edges())} edges\")\n",
    "    label_edge_counts = remove_sparse_labels(test_graph, min_edges_proportion=min_edges_proportion)\n",
    "    \n",
    "print(f\"Nodes: {test_graph.number_of_nodes()}\")\n",
    "print(f\"Edges: {test_graph.number_of_edges()}\")\n",
    "print(f\"Labels: {len(test_graph.all_labels)}\")\n",
    "print(f\"Density: {test_graph.density()}\")\n",
    "if not sparse_labels_removal:\n",
    "    test_graph.update_label_set()"
   ]
  },
  {
   "cell_type": "code",
   "execution_count": null,
   "metadata": {},
   "outputs": [],
   "source": [
    "density, n_nodes = run_decompostion(test_graph)\n",
    "print(density, n_nodes)"
   ]
  },
  {
   "cell_type": "code",
   "execution_count": 111,
   "metadata": {},
   "outputs": [
    {
     "name": "stdout",
     "output_type": "stream",
     "text": [
      "1.7222222222222223 ['mopa', 'action'] 18 31\n",
      "1.5887265135699373 ['legal'] 479 761\n",
      "1.7714285714285714 ['ecommerc', 'origin'] 35 62\n",
      "1.5480769230769231 ['gi', 'updat'] 208 322\n",
      "1.8333333333333333 ['meet', 'instruct', 'ga'] 12 22\n",
      "------\n",
      "2.1987023519870235 ['mopa', 'legal', 'gi', 'stanley', 'paraleg', 'raptor', 'pope', 'collater', 'ucc', 'scientist', 'org', 'ecommerc', 'bruce', 'emmis', 'alberta', 'plastic', 'pastoria', 'puls', 'japan', 'seat', 'gastech', 'block', 'setoff', 'england', 'wharton', 'bermuda', 'toll', 'entergi', 'usec', 'transammonia', 'tarantula', 'morton', 'rbc', 'singapor', 'demonstr', 'securit', 'ongo', 'cmua', 'currenc', 'staf', 'clerk', 'monterrey', 'clarksdal', 'ormet', 'distil', 'gambl', 'powel', 'westlaw', 'tibco', 'banqu', 'lover', 'japanes', 'mahonia', 'ibj', 'movement', 'mitsubishi', 'transmitt', 'dte', 'calm', 'metroga', 'offlin', 'imperi', 'asian', 'carol', 'ecp', 'omnibu', 'carr', 'balhorn', 'diamond', 'spinnak', 'plc', 'samuel', 'lunchabl', 'mne', 'amount', 'damiri', 'indusrial', 'diaz', 'talon', 'avici', 'schott', 'multicurr', 'sissi', 'servicio', 'vidriera', 'sladoj', 'outlet', 'waterhous', 'floo', 'fka', 'comercializadora', 'belvieu', 'ripon', 'trantula', 'egrm', 'jermain', 'grupo', 'nationsbank', 'lambert', 'bermudean', 'calidra', 'hensley', 'anexb', 'utilti', 'llp', 'pricewaterhousecoop', 'cpi', 'spanish', 'abil', 'reinsur', 'teesid', 'drift', 'elit', 'manhattan', 'tradespark', 'declin', 'andi', 'interim', 'self', 'ctc', 'massey', 'bryson', 'cftc', 'larg', 'hoecker', 'suspens', 'dig', 'freight', 'rick', 'gtc', 'clark', 'solvenc', 'mission', 'alto', 'asst', 'pira', 'small', 'connect', 'cmt', 'outcom', 'staffer', 'ridgewood', 'spokesman', 'sender', 'braintre', 'eager', 'capitol', 'illustr', 'bosk', 'swipe', 'courag', 'spin', 'cling', 'committte', 'knew', 'ize', 'joskow', 'own', 'admit', 'urg', 'cmta', 'brownbag', 'flood', 'huski', 'belco', 'falcon', 'elliott', 'pariba', 'iii', 'instruct', 'restrict', 'argentin', 'dabhol', 'prospect', 'loui', 'reg', 'northeast', 'kim', 'mention', 'randi', 'escap', 'treasuri', 'exec', 'ye', 'tape', 'enroncredit', 'rang', 'scope', 'trend', 'blake', 'dpl', 'riverval', 'equit'] 1233 2711\n",
      "1.7173789173789173 ['fantasi', 'superstici', 'shreveport', 'midstream', 'redraw', 'tubervil', 'erni', 'chic', 'dti', 'geaux', 'hd', 'algo', 'fil', 'roanok', 'formula', 'mdq', 'breath', '_aug', 'clgf', 'percentag', 'proprietari', 'cope', 'bridgeback', 'niagara', 'marketlink', 'caneast', 'larosa', 'oracl', 'flip', 'outdat', 'strg', 'bucket', 'leagu', 'demograph', 'sixteen', 'judi', 'rebook', 'paintbal', 'cct', 'score', 'unbeliev', 'hunter', 'strand', 'chandley', 'greenash', 'panelist', 'eye', 'tgt', 'avoid', 'sonoco', 'del', 'uccsu', 'borenstein', 'prevail', 'interli', 'paperexchang', 'paperloop', 'unanim', 'feintsein', 'uipdat', 'testifi', 'palmdal', 'pact', 'bois', 'ratepay', 'idaho', 'manufatur', 'silicon', 'regenc', 'taken', 'cma', 'pdt', 'neast', 'gain', 'bailey', 'teja', 'cgv', 'bounc', 'agav', 'sonat', 'forfeit', 'rocker', 'rudi', 'coke', 'zealand', 'advert', 'gore', 'keneal', 'militari', 'marcher', 'mpeg', 'teasingcat', 'mpg', 'goron', 'ultim', 'chili', 'secon', 'chamber', 'sql', 'tie', 'inject', 'orwel', 'luv', 'poam', 'suburban', 'bookout', 'lakesid', 'cglf', 'brainstorm', 'kristin', 'doorstep', 'entex', 'anticip', 'conferen', 'promptli', 'calp', 'nful', 'todd', 'dayton', 'juri', 'rehear', 'shorten', 'rout', 'half', 'devil', 'usag', 'gallup', 'nbp', 'ipp', 'courtesi', 'cedar', 'coronado', 'loos', 'requri', 'resutl', 'allenergi', 'nors', 'larenc', 'demarco', 'mrkt', 'ofo', 'optim', 'merlin', 'cousino', 'wgl', 'miscellan', 'aghh', 'teamleadership', 'nath', 'cmr', 'snowden', 'kaufman', 'tani', 'authorizarion', 'sim', 'commonwealth', 'alaska', 'cub', 'oglethorp', 'midcoast', 'enough', 'petroleum', 'carter', 'done', 'sea', 'expenditur', 'overview', 'bowen', 'voter', 'exit', 'six', 'chicken', 'salari', 'hedstrom', 'mass', 'aegi', 'lambertvil', 'leidi', 'oprisk', 'unifi', 'sitara', 'hess', 'port', 'meter', 'rose', 'varianc', 'sith', 'dpr', 'pretti', 'transport', 'desk', 'track', 'trader', 'reliant', 'ce', 'basi', 'tenaska', 'columbia', 'commod', 'broker', 'id', 'tagg', 'oneok', 'crestar', 'nicor', 'assist', 'old', 'survey', 'phi', 'devon', 'republ', 'cove', 'td', 'wisconsin', 'orig', 'lone', 'chemic', 'migrat', 'turn', 'coenergi', 'keep', 'fin', 'ugi', 'accomplish', 'insid', 'cargil', 'admin', 'interact', 'map', 'entellig', 'banker', 'merchant', 'agent', 'also', 'pilot', 'enov', 'bennett', 'anp', 'exp', 'formerli', 'logic', 'iroq', 'stingray', 'synthet', 'mpr', 'cnr', 'replac', 'nng', 'egan', 'divis', 'setup', 'learn', 'preced', 'denver', 'gate', 'engag', 'flash', 'overdu', 'margin', 'phillip', 'adjust', 'reloc', 'altrad', 'reorgan', 'commoditylog', 'aurora', 'five', 'intra', 'cfo', 'cast', 'conoco', 'script', 'usa', 'claus', 'improv', 'bag', 'marin', 'citibank', 'perri', 'forest', 'ngpl', 'psnc', 'mart', 'gomez', 'alliant', 'interdesk', 'firstenergi', 'pure', 'outercurv', 'puerco', 'walton', 'lite', 'owe', 'sapient', 'vpn', 'thompson', 'parodi', 'prior', 'devonian', 'tmg', 'leed', 'kirkendal', 'agl', 'salomon', 'braodcast', 'concess', 'shade', 'singer', 'nabisco', 'chilean', 'proxicom', 'retract', 'cand', 'aristech', 'maintenac', 'viant', 'unlead', 'alreadi', 'replic', 'rpt', 'hopewel', 'resumpt', 'analytica', 'ttt', 'serious', 'grey', 'spear', 'intercompani', 'massachusett', 'nova', 'bytz', 'greg', 'cm', 'consid', 'joy', 'pipe', 'vng', 'roll', 'natsourc', 'timothi', 'ppt', 'neg', 'social', 'torch', 'imc', 'kellogg', 'basketbal', 'assess', 'fom', 'tetco', 'formosa', 'gcp', 'click', 'lobbi', 'skill', 'exposur', 'hub', 'wti', 'coverag', 'central', 'chees', 'tiger', 'window', 'verif', 'txu', 'island', 'eastern', 'recap', 'logist', 'statoil', 'consolid', 'nimo', 'cone', 'susan', 'friendli', 'count', 'path', 'interfac', 'belden', 'theoret', 'coh', 'treati', 'perez', 'eugenio', 'api', 'borrow', 'lectur', 'nipsco', 'nortel', 'vpp', 'phoenix', 'interst', 'brant', 'counterparti', 'shackleton', 'gen', 'cogener', 'monet', 'strong', 'erm', 'opt', 'cannon', 'redmeteor', 'allegro', 'daughter', 'equitran', 'neat', 'influenc', 'ucla', 'hou', 'tembec', 'ontario', 'pvm', 'fletcher', 'aspect', 'cityg', 'hast', 'eob', 'ora', 'incorpor', 'discount', 'gupta', 'anuj', 'tf', 'portland', 'pasadena', 'river', 'float', 'obmc', 'index', 'forcenergi', 'paso', 'la', 'histori', 'disput', 'cogen', 'illinoi', 'erequest', 'place', 'allen', 'joe', 'humor', 'ecc', 'chronic', 'undercollect', 'solv', 'mere', 'lamb', 'asham', 'educ', 'grand', 'hyatt', 'inclus', 'upon', 'cheryl', 'heart', 'attn', 'sleev', 'poin', 'marriag', 'differ', 'promis', 'johnston', 'marq', 'cng', 'cleburn', 'withdraw', 'saga', 'enpow', 'shipper', 'trigger', 'redibook', 'ground', 'deem', 'amoco', 'panther', 'puget', 'sound', 'agt', 'wki', 'tco', 'sep', 'png', 'scotia', 'cao', 'telecom', 'eagl', 'webmethod', 'io', 'kill', 'attack', 'transit', 'pnm', 'rodeo', 'meh', 'unknown', 'kick', 'chicago', 'junior', 'achiev', 'demo', 'tripl', 'employ', 'bonu', 'guidelin', 'bridg', 'trust', 'relationship', 'cibc', 'integr', 'aep', 'nlrb', 'lutz', 'compens', 'prepar', 'macerich', 'bid', 'rush', 'personnel', 'text', 'vision', 'montana', 'liquid', 'limit', 'spill', 'wilson', 'calc', 'louisiana', 'format', 'virginia', 'tennesse', 'east', 'deutsch', 'dickenson', 'delainey', 'duke', 'excit', 'thru', 'jersey', 'flight', 'tim', 'trco', 'resourc', 'david', 'expens', 'archeolog', 'topock', 'outlook', 'farewel', 'understand', 'quiz', 'post', 'act', 'memori', 'watch', 'engin', 'vote', 'progress', 'affair', 'decemb', 'analyst', 'deal', 'center', 'offic', 'daili', 'prc', 'curv', 'congratul', 'mitig', 'asset', 'var', 'ee', 'regulatori', 'nymex', 'cdwr', 'eol', 'xm', 'origin', 'budget', 'upstream', 'associ', 'tva', 'subcommitte', 'wind', 'whalley', 'respond', 'tech', 'submit', 'heat', 'gordon', 'accrual', 'deseret', 'cfa', 'produc', 'web', 'sempra', 'qbr', 'balanc', 'player', 'yesterday', 'court', 'load', 'hit', 'amp', 'benefit', 'gari', 'palo', 'histor', 'focus', 'windfal', 'critic', 'manipul', 'consider', 'fail', 'annuiti', 'near', 'district', 'loss', 'atlant', 'apr', 'feder', 'shortag', 'target', 'cent', 'bod', 'hall', 'expans', 'mainlin', 'intellig', 'ice', 'mari', 'phase', 'ec', 'discoveri', 'robert', 'per', 'dash', 'steel', 'daishowa', 'sierra', 'ashland', 'wheel', 'flag', 'dynegi', 'border', 'candid', 'conting', 'harass', 'administr', 'pulp', 'provid', 'certain', 'exempt', 'key', 'richard', 'deposit', 'csa', 'employe', 'orient', 'mobil', 'exchang', 'like', 'william', 'packet', 'smith', 'structur', 'disregard', 'barclay', 'patti', 'mine', 'carnegi', 'sacramento', 'vicki', 'underwrit', 'period', 'redwood', 'exercis', 'myth', 'revenu', 'organiz', 'output', 'complet', 'nation', 'juvenil', 'expir', 'appeal', 'drill', 'kern', 'mkt', 'bay', 'hard', 'ew', 'congrat', 'discrep', 'segment', 'continent', 'coral', 'chronicl', 'role', 'european', 'nat', 'antonio', 'fundament', 'timber', 'hydrocarbon', 'hpl', 'potenti', 'calpin', 'unit', 'enw', 'govern', 'ship', 'idea', 'claim', 'flow', 'prioriti', 'litig', 'natur', 'regul', 'arbitr', 'procedur', 'metal', 'taylor', 'exampl', 'auto', 'coop', 'wsj', 'pro', 'epc', 'oregon', 'goug', 'redrock', 'manual', 'sce', 'sdg', 'interview', 'albani', 'chafe', 'inga', 'iou', 'tidbit', 'delaney', 'compon', 'expos', 'hint', 'reuter', 'prohibit', 'iep', 'bln', 'armageddon', 'freeman', 'tribun', 'mex', 'recoveri', 'ceo', 'smutni', 'seattl', 'kees', 'insead', 'dohn', 'satellit', 'linger', 'host', 'rooki', 'former', 'lambast', 'esai', 'motiv', 'maul', 'revalu', 'rfb', 'justifi', 'forbear', 'tea', 'alleg', 'extraordinari', 'seller', 'creditdotcom', 'hertzberg', 'conspir', 'sector', 'megawatt', 'fiscal', 'duqu', 'turnonthetruth', 'woe', 'bei', 'peevey', 'effici', 'kari', 'fiddl', 'cinergi', 'penal', 'shiver', 'approach', 'rabi', 'unfair', 'surcharg', 'gao', 'vacanc', 'major', 'diann', 'powerpl', 'rod', 'congression', 'burton', 'everyon', 'mellon', 'poll', 'abus', 'pace', 'lrc', 'wptf', 'pioneer', 'rio', 'reaction', 'infrastructur', 'plummet', 'seismic', 'probe', 'costlier', 'signific', 'faltinsen', 'intrast', 'threat', 'shen', 'gouger', 'feinstein', 'protest', 'cmte', 'denounc', 'easier', 'fyi_____iso', 'conserv', 'rosenfield', 'pinnacl', 'whaley', 'legsil', 'grc', 'suspend', 'loom', 'politician', 'resolv', 'via', 'modesto', 'fed', 'phoni', 'rise', 'pub', 'sheila', 'forese', 'endors', 'inventori', 'unsur', 'baja', 'metcalf', 'freez', 'outrag', 'cohen', 'venu', 'specialist', 'halliburton', 'halt', 'checkout', 'apx', 'fastbal', 'advisor', 'bearish', 'caifornia', 'fiction', 'stakehold', 'senior', 'soar', 'congest', 'orang', 'commentari', 'svmg', 'grid', 'caucu', 'attitud', 'californian', 'barton', 'dire', 'lobbyist', 'statistician', 'averag', 'ogc', 'codgil', 'platt', 'yurkanin', 'seiz', 'karrieremoeglichkeiten', 'defend', 'shelter', 'qf', 'blueprint', 'prudenc', 'applicatio', 'whoop', 'cdwp', 'magic', 'hinder', 'tex', 'ban', 'stig', 'crescendo', 'product', 'sell', 'valid', 'third', 'andersen', 'brown', 'tom'] 3510 6028\n"
     ]
    },
    {
     "name": "stdout",
     "output_type": "stream",
     "text": [
      "1.1791823112223614 ['gir', 'accord', 'eix', 'timet', 'noon', 'sfo', 'blame', 'examin', 'fellow', 'lower', 'misdirect', 'ladwp', 'angelid', 'rais', 'editori', 'sac', 'bee', 'wit', 'elimin', 'coastal', 'pcg', 'voluntari', 'tra', 'figur', 'utilit', 'secretari', 'newsmak', 'montali', 'face', 'challeng', 'brult', 'pst', 'ami', 'refund', 'dereg', 'abx', 'declar', 'northern', 'cesg', 'principl', 'later', 'let', 'lawmak', 'soft', 'consequ', 'calif', 'alpert', 'walter', 'harvey', 'other', 'input', 'exam', 'florio', 'arm', 'sdge', 'hogan', 'deregul', 'expertfind', 'chief', 'gop', 'deliv', 'delay', 'ldc', 'legislatur', 'notebook', 'socalga', 'disclos', 'taster', 'merg', 'inquiri', 'type', 'titan', 'clair', 'purpos', 'acknowledg', 'mount', 'king', 'rebutt', 'specif', 'hunger', 'fountain', 'pegasu', 'peac', 'hace', 'iroquoi', 'psco', 'cut', 'turbopark', 'sec', 'teleconfer', 'mcneali', 'northwestern', 'checklist', 'testimoni', 'delta', 'coalit', 'cheney', 'wagner', 'kinder', 'pwr', 'food', 'sbx', 'doctor', 'advisori', 'overrid', 'electrobolt', 'carla', 'dicastro', 'www', 'http', 'henwood', 'three', 'iri', 'mack', 'yergin', 'reregul', 'kean', 'comprehens', 'sen', 'stay', 'piec', 'creditor', 'simul', 'middl', 'suit', 'posey', 'agre', 'broadband', 'partnership', 'root', 'heard', 'breakout', 'behind', 'aguirr', 'sddp', 'oklahoma', 'grade', 'up', 'compar', 'governor', 'wright', 'csu', 'republican', 'edit', 'delet', 'coffe', 'stage', 'mon', 'summari', 'clarif', 'peggi', 'denni', 'verbag', 'nice', 'promin', 'berkeley', 'barb', 'focu', 'memorandum', 'lacima', 'clewlow', 'shift', 'differenti', 'ohio', 'multipl', 'cera', 'wood', 'highlight', 'srac', 'mayor', 'linda', 'believ', 'kpmg', 'subsidiari', 'dapsa', 'telecon', 'tradewel', 'amerex', 'aether', 'signatori', 'excambria', 'express', 'wow', 'young', 'bellingham', 'tut', 'wnba', 'comet', 'timelin', 'transform', 'followup', 'commiss', 'australian', 'subscript', 'section', 'mann', 'epf', 'gulf', 'rac', 'prebon', 'bandwidth', 'cancel', 'polit', 'bankruptci', 'point', 'committe', 'electron', 'board', 'mba', 'law', 'quot', 'organ', 'goal', 'coal', 'follow', 'award', 'field', 'consult', 'itinerari', 'preliminari', 'entiti', 'hold', 'newslett', 'retent', 'prepay', 'ghost', 'mexico', 'receipt', 'urgent', 'video', 'comment', 'investig', 'statement', 'locat', 'dec', 'georg', 'agmt', 'clickpap', 'temporari', 'continu', 'effort', 'legisl', 'astro', 'hear', 'epmi', 'john', 'harvard', 'steve', 'research', 'quarter', 'audit', 'bloomberg', 'gov', 'valuat', 'senat', 'fcel', 'eecc', 'caiso', 'allianc', 'india', 'blue', 'still', 'charl', 'conflict', 'waiver', 'lynch', 'economist', 'canadian', 'dakota', 'articl', 'misc', 'alumni', 'american', 'privat', 'rule', 'park', 'littl', 'met', 'lesson', 'toronto', 'sign', 'comput', 'futur', 'sampl', 'nanni', 'leadership', 'clear', 'alloc', 'support', 'media', 'page', 'announc', 'stock', 'top', 'base', 'socal', 'lexi', 'descript', 'gleason', 'nois', 'navi', 'peaker', 'privileg', 'pat', 'permit', 'emiss', 'westinghous', 'cover', 'equiti', 'bear', 'remind', 'demand', 'cornhusk', 'septemb', 'jim', 'speaker', 'recruit', 'cst', 'pac', 'protect', 'chairman', 'bob', 'compressor', 'forward', 'phone', 'bush', 'merger', 'chri', 'lost', 'long', 'link', 'confirm', 'guaranti', 'lng', 'brokerag', 'review', 'issu', 'esa', 'around', 'lotu', 'onlin', 'standard', 'access', 'execut', 'hedg', 'southern', 'analysi', 'data', 'spread', 'energi', 'thursday', 'subpoena', 'chart', 'cargo', 'counsel', 'enrononlin', 'crisi', 'need', 'canada', 'agenc', 'detail', 'stuff', 'feedback', 'letter', 'swap', 'compress', 'volum', 'custom', 'approv', 'mike', 'vacat', 'meet', 'offsit', 'houston', 'rsvp', 'doc', 'system', 'night', 'interest', 'seminar', 'news', 'argentina', 'construct', 'use', 'local', 'total', 'celebr', 'split', 'organis', 'mill', 'harri', 'forecast', 'aron', 'graph', 'begin', 'mac', 'print', 'pep', 'renew', 'sunday', 'week', 'level', 'correct', 'dial', 'first', 'exclus', 'washington', 'cash', 'interconnect', 'super', 'austin', 'softwar', 'ken', 'hotel', 'acr', 'fan', 'explor', 'technic', 'run', 'yahoo', 'penn', 'haedick', 'johnson', 'train', 'leav', 'concern', 'goe', 'worth', 'abb', 'month', 'disclosur', 'site', 'calpx', 'york', 'variou', 'pacif', 'creditworthi', 'suppli', 'perform', 'arrang', 'workshop', 'document', 'termsheet', 'seek', 'calendar', 'buy', 'enrol', 'introduct', 'station', 'mid', 'foundat', 'wholesal', 'outag', 'option', 'set', 'client', 'particip', 'clickathom', 'et', 'enterpris', 'problem', 'error', 'sent', 'rfp', 'code', 'april', 'databas', 'spreadsheet', 'earth', 'end', 'activ', 'camp', 'moor', 'priceless', 'send', 'relat', 'chase', 'cob', 'escrow', 'fuel', 'name', 'australia', 'gener', 'paul', 'convent', 'notif', 'brazil', 'extens', 'paper', 'packag', 'propos', 'hour', 'aquila', 'gift', 'max', 'market', 'juli', 'jan', 'footbal', 'season', 'book', 'bench', 'rocket', 'success', 'take', 'greet', 'petro', 'mou', 'capit', 'stan', 'ok', 'tenn', 'recount', 'remedi', 'expect', 'front', 'introduc', 'ten', 'cooper', 'modifi', 'koch', 'tariff', 'dan', 'marathon', 'cpa', 'quarterli', 'union', 'black', 'laptop', 'winner', 'jessi', 'miller', 'impact', 'god', 'land', 'labor', 'bailout', 'trash', 'tourney', 'auction', 'ap', 'noncor', 'supplier', 'share', 'wheatland', 'enhanc', 'nomin', 'lie', 'ltr', 'bail', 'relief', 'committ', 'translat', 'depart', 'outsid', 'underway', 'restructur', 'gonzal', 'factor', 'wisdom', 'implement', 'spike', 'cross', 'mirant', 'disast', 'forc', 'gpg', 'tnrcc', 'municip', 'bakersfield', 'handl', 'desktop', 'midland', 'fix', 'csfb', 'hope', 'aggi', 'council', 'ballet', 'white', 'salmon', 'bash', 'zone', 'tower', 'avista', 'oblig', 'consumpt', 'tue', 'curtail', 'tip', 'involv', 'wire', 'nerc', 'extend', 'anderson', 'transcript', 'retail', 'lincoln', 'dominion', 'friendship', 'profil', 'stearn', 'jackson', 'pressur', 'push', 'catalytica', 'commerci', 'author', 'fpl', 'asap', 'proceed', 'add', 'especailli', 'dunn', 'remaind', 'gun', 'postpon', 'duti', 'card', 'welcom', 'larri', 'cell', 'arizona', 'speech', 'offer', 'citi', 'sheet', 'citizen', 'affili', 'fact', 'awesom', 'matter', 'util', 'nov', 'memo', 'weekli', 'indian', 'teco', 'btu', 'guid', 'studi', 'pcb', 'repli', 'feel', 'turbin', 'oil', 'region', 'monitor', 'eott', 'recordkeep', 'nitrogen', 'sulfur', 'bug', 'topic', 'cge', 'facilit', 'task', 'password', 'standbi', 'shop', 'plug', 'head', 'chapter', 'suess', 'jurisdict', 'upcom', 'experi', 'readi', 'extra', 'econ', 'effect', 'rock', 'core', 'tab', 'internet', 'mexican', 'nelson', 'contractor', 'woman', 'pager', 'crane', 'reschedul', 'tour', 'natrual', 'father', 'past', 'stress', 'put', 'indic', 'due', 'dilig', 'talk', 'bobbi', 'owner', 'better', 'stand', 'california', 'lay', 'puc', 'iso', 'solut', 'nyseg', 'assembl', 'singl', 'real', 'debat', 'ene', 'earlier', 'audio', 'conferenc', 'wrestl', 'fake', 'folk', 'countri', 'fli', 'fa', 'rmt', 'advanc', 'constel', 'ferc', 'eta', 'dwr', 'say', 'incom', 'voicemail', 'westlb', 'gone', 'lisa', 'ventur', 'wait', 'mhi', 'estim', 'peak', 'fyi', 'univers', 'physic', 'phil', 'arkansa', 'creek', 'stabil', 'fire', 'valley', 'tank', 'hendrick', 'wall', 'situat', 'nom', 'paid', 'pre', 'info', 'non', 'solicit', 'current', 'cultur', 'win', 'ask', 'dow', 'jone', 'sita', 'great', 'money', 'requir', 'airlin', 'default', 'high', 'entri', 'plenti', 'blackout', 'gray', 'davi', 'motion', 'ranch', 'tier', 'pain', 'blacklin', 'fri', 'judg', 'cpr', 'altern', 'contribut', 'appoint', 'profit', 'increas', 'printer', 'burn', 'pledg', 'intent', 'diabet', 'bullet', 'choke', 'req', 'leader', 'attorney', 'represent', 'network', 'director', 'opinion', 'server', 'reach', 'resolut', 'consum', 'accept', 'clean', 'side', 'francisco', 'calcul', 'cpuc', 'commerc', 'redraft', 'damag', 'sue', 'war', 'alon', 'deadlin', 'cal', 'supplement', 'pse', 'actual', 'knight', 'sourc', 'clinton', 'applic', 'busi', 'china', 'summit', 'digit', 'econom', 'floor', 'trade', 'manag', 'babi', 'promot', 'februari', 'net', 'sap', 'penney', 'staff', 'tournament', 'montreal', 'cap', 'box', 'holiday', 'game', 'golf', 'rotat', 'san', 'ect', 'annual', 'oper', 'life', 'thought', 'eim', 'earnest', 'earli', 'diego', 'jesu', 'prime', 'shutdown', 'beach', 'pig', 'space', 'platform', 'even', 'mtg', 'beck', 'time', 'apt', 'posit', 'seri', 'alert', 'reserv', 'tana', 'plane'] 4794 5653\n"
     ]
    },
    {
     "name": "stdout",
     "output_type": "stream",
     "text": [
      "1.0 ['mckinsey', 'cuiaba', 'siemen', 'eca', 'miracl', 'globe', 'biggest', 'rubi', 'compet', 'barney', 'websit', 'global', 'sher', 'manifesto', 'assumpt', 'repo', 'kaiser', 'kc', 'eweb', 'annex', 'hawaii', 'arthur', 'utilicorp', 'sara', 'must', 'morgan', 'bond', 'hill', 'transmiss', 'commission', 'bit', 'brief', 'length', 'sooo', 'mdea', 'cec', 'negoti', 'michael', 'respons', 'exhibit', 'consent', 'loi', 'spa', 'vepco', 'pass', 'counti', 'suiza', 'given', 'edgecomb', 'evil', 'lilco', 'advic', 'rev', 'elizabethtown', 'etown', 'ad', 'salsa', 'till', 'britney', 'swing', 'bomb', 'alp', 'develop', 'discuss', 'stanford', 'vinc', 'submitt', 'outlin', 'togeth', 'mgmt', 'recent', 'comparison', 'plant', 'mathemat', 'user', 'speak', 'rice', 'gourmet', 'lehman', 'altra', 'room', 'full', 'jame', 'luck', 'copi', 'brother', 'church', 'distribut', 'protocol', 'journal', 'initi', 'signatur', 'play', 'deer', 'cellular', 'cgey', 'grandma', 'student', 'voic', 'shoe', 'buddi', 'find', 'modif', 'hand', 'mess', 'nike', 'guarante', 'cp', 'pseg', 'math', 'provis', 'florida', 'nrg', 'mother', 'kid', 'bold', 'neumin', 'ppl', 'amend', 'sale', 'america', 'polici', 'lawyer', 'firm', 'eei', 'enfolio', 'facil', 'cga', 'januari', 'joint', 'midwest', 'etc', 'definit', 'evalu', 'paragraph', 'brent', 'con', 'term', 'rep', 'edison', 'member', 'air', 'process', 'eb', 'certif', 'complaint', 'newport', 'august', 'north', 'gisb', 'psa', 'tenni', 'electr', 'latest', 'four', 'allegheni', 'properti', 'master', 'isda', 'llc', 'viru', 'free', 'spring', 'much', 'ncaa', 'team', 'jeff', 'redlin', 'reimburs', 'investor', 'guest', 'pge', 'red', 'commit', 'contest', 'afternoon', 'egm', 'spot', 'practic', 'transfer', 'industri', 'ballot', 'economi', 'nda', 'tokyo', 'visit', 'wed', 'ethic', 'direct', 'sweet', 'way', 'water', 'tuesday', 'short', 'wednesday', 'would', 'perfect', 'revis', 'line', 'slide', 'acquisit', 'trial', 'bath', 'sailor', 'petit', 'ignor', 'tag', 'agreement', 'ecoga', 'languag', 'case', 'background', 'thing', 'possibl', 'risk', 'receiv', 'oct', 'monday', 'draft', 'save', 'scott', 'start', 'ena', 'bridgelin', 'catch', 'wish', 'import', 'hire', 'travel', 'competit', 'million', 'cartoon', 'valu', 'epa', 'winter', 'salli', 'contract', 'project', 'mani', 'contact', 'mark', 'number', 'deriv', 'friday', 'class', 'pleas', 'ticket', 'want', 'rate', 'invoic', 'note', 'job', 'sach', 'dad', 'membership', 'telephon', 'credit', 'file', 'transact', 'go', 'action', 'join', 'thanksgiv', 'alex', 'friend', 'true', 'tree', 'away', 'quick', 'home', 'round', 'special', 'result', 'children', 'corpor', 'beauti', 'see', 'never', 'enjoy', 'africa', 'loan', 'purchas', 'light', 'model', 'emerg', 'boy', 'regist', 'anim', 'bill', 'everyth', 'capac', 'girl', 'termin', 'matrix', 'bad', 'signal', 'profession', 'read', 'gather', 'look', 'partner', 'worksheet', 'return', 'well', 'fee', 'tax', 'fish', 'ppa', 'could', 'pictur', 'tonight', 'texa', 'vega', 'serv', 'xma', 'lsu', 'corrupt', 'best', 'choic', 'cold', 'smile', 'pic', 'calgari', 'loser', 'suggest', 'part', 'matt', 'avg', 'word', 'write', 'late', 'surpris', 'conf', 'storag', 'inform', 'ga', 'resum', 'request', 'chang', 'joke', 'present', 'public', 'subject', 'work', 'today', 'saturday', 'list', 'program', 'messag', 'power', 'year', 'day', 'statu', 'internship', 'order', 'releas', 'roundtabl', 'remov', 'jdf', 'assign', 'form', 'payment', 'enron', 'test', 'new', 'thank', 'call', 'parti', 'question', 'birthday', 'address', 'confer', 'mail', 'trip', 'dinner', 'may', 'hello', 'lunch', 'attach', 'hey', 'fwd', 'summer', 'weekend', 'report', 'march', 'instal'] 3374 3374\n",
      "0.8888888888888888 ['campaign', 'technolog', 'breakfast', 'frank', 'recept'] 9 8\n"
     ]
    }
   ],
   "source": [
    "# enron\n",
    "results = repeated_find_label_subgraph(test_graph, conjunction=True)\n",
    "print(\"------\")\n",
    "results = repeated_find_label_subgraph(test_graph, conjunction=False)"
   ]
  },
  {
   "cell_type": "code",
   "execution_count": 101,
   "metadata": {},
   "outputs": [
    {
     "name": "stdout",
     "output_type": "stream",
     "text": [
      "2.0 ['brane', 'theori', 'covari', 'super'] 7 14\n",
      "1.3715083798882681 ['brane'] 1074 1473\n",
      "2.5 ['theori', 'casimir', 'light'] 6 15\n",
      "2.0 ['theori', 'mill', 'condens', 'nonlinear'] 5 10\n",
      "2.0 ['theori', 'super', 'mechan', 'three'] 5 10\n",
      "------\n",
      "1.7015834348355663 ['brane', 'string', 'supergrav', 'super', 'supersymmetri', 'supersymmetr', 'noncommut', 'yau', 'superstr', 'bp', 'self', 'brst', 'instanton', 'superconform', 'orbifold', 'orientifold', 'vacua', 'entropi', 'extrem', 'sitter', 'seiberg', 'superspac', 'chern', 'dualiti', 'toda', 'wall', 'plane', 'curv', 'casimir', 'four', 'dual', 'moduli', 'induc', 'note', 'cohomolog', 'mirror', 'susi', 'monopol', 'singular', 'tachyon'] 3284 5588\n",
      "0.9570011025358324 ['close', 'simon', 'calabi', 'bound', 'flow', 'condens', 'gordon', 'chain', 'exact', 'critic', 'correl', 'multi', 'limit', 'spectrum', 'lattic', 'hierarchi', 'amplitud', 'type', 'sine', 'surfac', 'perturb', 'five', 'class', 'renorm', 'problem', 'classic', 'approach', 'group', 'construct', 'reduct', 'three', 'current', 'descript', 'qcd', 'realiz', 'calogero', 'world', 'intersect', 'vacuum', 'equival', 'depend', 'infeld', 'commut', 'dynam', 'chiral', 'condit', 'constant', 'physic', 'one', 'energi', 'constraint', 'fraction', 'interact', 'new', 'transform', 'soliton', 'thermodynam', 'dirac', 'form', 'mode', 'method', 'open'] 1814 1736\n",
      "0.6666666666666666 ['properti'] 12 8\n",
      "0.6666666666666666 ['correct'] 9 6\n",
      "0.6666666666666666 ['particl', 'charg'] 57 38\n"
     ]
    }
   ],
   "source": [
    "# phys\n",
    "results = repeated_find_label_subgraph(test_graph, conjunction=True)\n",
    "print(\"------\")\n",
    "results = repeated_find_label_subgraph(test_graph, conjunction=False)"
   ]
  },
  {
   "cell_type": "code",
   "execution_count": 108,
   "metadata": {},
   "outputs": [
    {
     "name": "stdout",
     "output_type": "stream",
     "text": [
      "12.0 ['novel', 'rate', 'techniqu'] 25 300\n",
      "10.73913043478261 ['identif', 'combin', 'process'] 23 247\n",
      "6.2 ['forecast', 'experi', 'use'] 15 93\n",
      "6.0 ['heterogen', 'manag', 'stream', 'use'] 13 78\n",
      "2.0 ['heterogen', 'segment'] 5 10\n",
      "3.125 ['heterogen', 'manag', 'use', 'dynam'] 8 25\n",
      "2.5 ['heterogen', 'sourc', 'toward'] 6 15\n",
      "2.5 ['heterogen', 'construct', 'dimension', 'network'] 6 15\n",
      "2.25 ['heterogen', 'mobil', 'regular', 'data'] 8 18\n",
      "2.142857142857143 ['heterogen', 'rule', 'applic'] 7 15\n",
      "------\n",
      "2.213991769547325 ['novel'] 243 538\n",
      "1.9069767441860466 ['identif'] 258 492\n",
      "1.6532663316582914 ['forecast'] 199 329\n",
      "1.5826446280991735 ['heterogen'] 484 766\n",
      "1.496007515265383 ['mine', 'recommend', 'social', 'multi', 'detect', 'via', 'rank', 'text', 'factor', 'onlin', 'identifi', 'graph', 'stream', 'topic', 'studi', 'regular', 'distribut', 'extract', 'preserv', 'advertis', 'task', 'tempor', 'search', 'class', 'link', 'discoveri', 'discov', 'measur', 'awar', 'adversari', 'similar', 'converg', 'tensor', 'view', 'sourc', 'dataset', 'sentiment', 'understand', 'point', 'propag', 'chang', 'automat', 'semi', 'increment', 'word', 'latent', 'event', 'relat', 'attent', 'comparison', 'enhanc', 'exploit', 'match', 'domain', 'tree', 'problem', 'find', 'metric', 'subspac', 'unsupervis', 'risk', 'page', 'spectral', 'correl', 'frequent', 'itemset', 'video', 'outlier', 'decomposit'] 8516 12740\n",
      "1.0 ['manag'] 41 41\n",
      "0.96875 ['low'] 32 31\n",
      "0.9629629629629629 ['document'] 27 26\n",
      "0.8571428571428571 ['design'] 49 42\n",
      "0.8571428571428571 ['integr'] 70 60\n"
     ]
    }
   ],
   "source": [
    "# dblp\n",
    "results = repeated_find_label_subgraph(test_graph, conjunction=True, max_iterations=10)\n",
    "print(\"------\")\n",
    "results = repeated_find_label_subgraph(test_graph, conjunction=False, max_iterations=10)"
   ]
  },
  {
   "cell_type": "code",
   "execution_count": 113,
   "metadata": {},
   "outputs": [
    {
     "name": "stdout",
     "output_type": "stream",
     "text": [
      "2.5833333333333335 ['metooase'] 12 31\n",
      "1.875 ['streamer'] 16 30\n",
      "1.75 ['anubhavmohanty'] 16 28\n",
      "1.7142857142857142 ['victimservices'] 7 12\n",
      "1.8333333333333333 ['causette', 'lfi'] 6 11\n",
      "1.625 ['istandwithjohnny'] 8 13\n",
      "1.4285714285714286 ['rupertmurdock'] 7 10\n",
      "1.25 ['marilynmanson'] 8 10\n",
      "1.2142857142857142 ['balancetonporcfi'] 14 17\n",
      "1.3 ['melenchon'] 10 13\n",
      "------\n",
      "2.5833333333333335 ['metooase'] 12 31\n",
      "1.875 ['streamer'] 16 30\n",
      "1.75 ['anubhavmohanty'] 16 28\n",
      "1.7142857142857142 ['sudbury'] 7 12\n",
      "1.6363636363636365 ['causette'] 11 18\n",
      "1.625 ['istandwithjohnny'] 8 13\n",
      "1.4285714285714286 ['rupertmurdock'] 7 10\n",
      "1.3 ['melenchon'] 10 13\n",
      "1.25 ['marilynmanson'] 8 10\n",
      "1.1764705882352942 ['silenceiscomplicity'] 17 20\n"
     ]
    }
   ],
   "source": [
    "# twitter\n",
    "results = repeated_find_label_subgraph(test_graph, conjunction=True, max_iterations=10)\n",
    "print(\"------\")\n",
    "results = repeated_find_label_subgraph(test_graph, conjunction=False, max_iterations=10)"
   ]
  }
 ],
 "metadata": {
  "colab": {
   "collapsed_sections": [],
   "name": "Communities in edge-labeled graphs.ipynb",
   "provenance": []
  },
  "kernelspec": {
   "display_name": "Python 3",
   "language": "python",
   "name": "python3"
  },
  "language_info": {
   "codemirror_mode": {
    "name": "ipython",
    "version": 3
   },
   "file_extension": ".py",
   "mimetype": "text/x-python",
   "name": "python",
   "nbconvert_exporter": "python",
   "pygments_lexer": "ipython3",
   "version": "3.8.10"
  }
 },
 "nbformat": 4,
 "nbformat_minor": 1
}
